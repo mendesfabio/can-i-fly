{
 "cells": [
  {
   "cell_type": "code",
   "execution_count": 1,
   "metadata": {},
   "outputs": [
    {
     "output_type": "error",
     "ename": "ModuleNotFoundError",
     "evalue": "No module named 'seleniumwire'",
     "traceback": [
      "\u001b[0;31m---------------------------------------------------------------------------\u001b[0m",
      "\u001b[0;31mModuleNotFoundError\u001b[0m                       Traceback (most recent call last)",
      "\u001b[0;32m<ipython-input-1-20fb2839fbb8>\u001b[0m in \u001b[0;36m<module>\u001b[0;34m\u001b[0m\n\u001b[1;32m      1\u001b[0m \u001b[0;32mimport\u001b[0m \u001b[0mjson\u001b[0m\u001b[0;34m\u001b[0m\u001b[0;34m\u001b[0m\u001b[0m\n\u001b[0;32m----> 2\u001b[0;31m \u001b[0;32mfrom\u001b[0m \u001b[0mseleniumwire\u001b[0m \u001b[0;32mimport\u001b[0m \u001b[0mwebdriver\u001b[0m\u001b[0;34m\u001b[0m\u001b[0;34m\u001b[0m\u001b[0m\n\u001b[0m\u001b[1;32m      3\u001b[0m \u001b[0;32mimport\u001b[0m \u001b[0mrequests\u001b[0m\u001b[0;34m\u001b[0m\u001b[0;34m\u001b[0m\u001b[0m\n\u001b[1;32m      4\u001b[0m \u001b[0;32mfrom\u001b[0m \u001b[0moperator\u001b[0m \u001b[0;32mimport\u001b[0m \u001b[0mitemgetter\u001b[0m\u001b[0;34m\u001b[0m\u001b[0;34m\u001b[0m\u001b[0m\n",
      "\u001b[0;31mModuleNotFoundError\u001b[0m: No module named 'seleniumwire'"
     ]
    }
   ],
   "source": [
    "import json\n",
    "from seleniumwire import webdriver\n",
    "import requests\n",
    "from operator import itemgetter"
   ]
  },
  {
   "cell_type": "code",
   "execution_count": null,
   "metadata": {},
   "outputs": [],
   "source": [
    "url = \"https://unwfp.maps.arcgis.com/apps/opsdashboard/index.html#/db5b5df309ac4f10bfd36145a6f8880e\"\n",
    "api_call_urls = [\n",
    "    \"https://services3.arcgis.com/t6lYS2Pmd8iVx1fy/arcgis/rest/services/COVID_Airline_Information_V2/FeatureServer/0/query?f=json&where=info%20%3C%3E%20%27%27%27%27%27%27&returnGeometry=false&spatialRel=esriSpatialRelIntersects&outFields=*&orderByFields=airline%20asc&outSR=102100&resultOffset=0&resultRecordCount=2500&resultType=standard&cacheHint=true\",\n",
    "    \"https://services3.arcgis.com/t6lYS2Pmd8iVx1fy/arcgis/rest/services/COVID_Travel_Restrictions_V2/FeatureServer/0/query?f=json&where=info%20%3C%3E%20%27%27%27%27%27%27&returnGeometry=false&spatialRel=esriSpatialRelIntersects&outFields=*&orderByFields=optional1%20desc%2Cadm0_name%20asc&outSR=102100&resultOffset=0&resultRecordCount=2500&resultType=standard&cacheHint=true\",\n",
    "    \"https://services3.arcgis.com/t6lYS2Pmd8iVx1fy/arcgis/rest/services/COVID_Travel_Restrictions_V2/FeatureServer/0/query?f=json&where=(info%20%3C%3E%20%27%27%27%27%27%27)%20AND%20(optional2%3C%3E%27%27%27%27%27%27)&returnGeometry=false&spatialRel=esriSpatialRelIntersects&outFields=*&orderByFields=optional1%20desc%2Cadm0_name%20asc&outSR=102100&resultOffset=0&resultRecordCount=2500&resultType=standard&cacheHint=true\",\n",
    "]"
   ]
  },
  {
   "cell_type": "code",
   "execution_count": null,
   "metadata": {},
   "outputs": [],
   "source": [
    "\n",
    "driver = webdriver.Chrome()\n",
    "driver.get(url)\n",
    "\n",
    "for url in api_call_urls:\n",
    "    driver.wait_for_request(url, timeout=60)\n",
    "\n",
    "responses = {\n",
    "    request.path: {\n",
    "        \"path\": request.path,\n",
    "        \"status_code\": request.response.status_code,\n",
    "        \"headers\": request.response.headers.get(\"Content-Type\"),\n",
    "    }\n",
    "    for request in driver.requests\n",
    "    if request.response\n",
    "    and request.method == \"GET\"\n",
    "    and \"services3.arcgis.com\" in request.path\n",
    "    and \"returnGeometry=true\" not in request.path\n",
    "}\n",
    "\n",
    "urls = set(responses.keys())\n",
    "\n",
    "results = {\n",
    "    url: {\"url\": url, \"data\": json.loads(requests.get(url).text).get(\"features\", [])}\n",
    "    for url in urls\n",
    "}"
   ]
  }
 ],
 "metadata": {
  "language_info": {
   "codemirror_mode": {
    "name": "ipython",
    "version": 3
   },
   "file_extension": ".py",
   "mimetype": "text/x-python",
   "name": "python",
   "nbconvert_exporter": "python",
   "pygments_lexer": "ipython3",
   "version": "3.8.1-final"
  },
  "orig_nbformat": 2,
  "kernelspec": {
   "name": "python38164bit381pyenvd710418ac97647c89d43a5ab6ad1b9cb",
   "display_name": "Python 3.8.1 64-bit ('3.8.1': pyenv)"
  }
 },
 "nbformat": 4,
 "nbformat_minor": 2
}